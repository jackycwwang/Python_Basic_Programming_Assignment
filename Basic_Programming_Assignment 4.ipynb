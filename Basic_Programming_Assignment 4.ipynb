{
 "cells": [
  {
   "cell_type": "markdown",
   "id": "1ecf91c1",
   "metadata": {},
   "source": [
    "# Basic Assingment 4"
   ]
  },
  {
   "cell_type": "markdown",
   "id": "33b33497",
   "metadata": {},
   "source": [
    "1.\tWrite a Python Program to Find the Factorial of a Number?"
   ]
  },
  {
   "cell_type": "code",
   "execution_count": 5,
   "id": "7fa55ce6",
   "metadata": {},
   "outputs": [],
   "source": [
    "def fact(n):\n",
    "    f = 1\n",
    "    for i in range(1, n+1):\n",
    "        f *= i\n",
    "    return f"
   ]
  },
  {
   "cell_type": "code",
   "execution_count": 6,
   "id": "e3e6ebdf",
   "metadata": {},
   "outputs": [
    {
     "data": {
      "text/plain": [
       "6"
      ]
     },
     "execution_count": 6,
     "metadata": {},
     "output_type": "execute_result"
    }
   ],
   "source": [
    "fact(3)"
   ]
  },
  {
   "cell_type": "code",
   "execution_count": 11,
   "id": "1b8a135e",
   "metadata": {},
   "outputs": [],
   "source": [
    "import math\n",
    "def fact2(n):\n",
    "    try:    \n",
    "        print(math.factorial(n))\n",
    "    except Exception as e:\n",
    "        print(e)"
   ]
  },
  {
   "cell_type": "code",
   "execution_count": 13,
   "id": "ffb23be3",
   "metadata": {
    "scrolled": true
   },
   "outputs": [
    {
     "name": "stdout",
     "output_type": "stream",
     "text": [
      "6\n"
     ]
    }
   ],
   "source": [
    "fact2(3)"
   ]
  },
  {
   "cell_type": "code",
   "execution_count": 15,
   "id": "0ad845aa",
   "metadata": {},
   "outputs": [
    {
     "name": "stdout",
     "output_type": "stream",
     "text": [
      "an integer is required (got type str)\n"
     ]
    }
   ],
   "source": [
    "fact2(\"sdf\")"
   ]
  },
  {
   "cell_type": "markdown",
   "id": "4cef7d91",
   "metadata": {},
   "source": [
    "2.\tWrite a Python Program to Display the multiplication Table?"
   ]
  },
  {
   "cell_type": "code",
   "execution_count": 24,
   "id": "f70c54c4",
   "metadata": {},
   "outputs": [
    {
     "name": "stdout",
     "output_type": "stream",
     "text": [
      " 1  2  3  4  5  6  7  8  9 \r\n",
      " 2  4  6  8 10 12 14 16 18 \r\n",
      " 3  6  9 12 15 18 21 24 27 \r\n",
      " 4  8 12 16 20 24 28 32 36 \r\n",
      " 5 10 15 20 25 30 35 40 45 \r\n",
      " 6 12 18 24 30 36 42 48 54 \r\n",
      " 7 14 21 28 35 42 49 56 63 \r\n",
      " 8 16 24 32 40 48 56 64 72 \r\n",
      " 9 18 27 36 45 54 63 72 81 \r\n"
     ]
    }
   ],
   "source": [
    "for i in range(1, 10):\n",
    "    for j in range(1, 10):\n",
    "        print('%2d' % (i * j) + ' ', end='')\n",
    "    print('\\r')"
   ]
  },
  {
   "cell_type": "markdown",
   "id": "03c22aef",
   "metadata": {},
   "source": [
    "3.\tWrite a Python Program to Print the Fibonacci sequence?"
   ]
  },
  {
   "cell_type": "code",
   "execution_count": 31,
   "id": "f690a1d1",
   "metadata": {},
   "outputs": [],
   "source": [
    "def fib(n):\n",
    "    a, b = 1, 1    \n",
    "    for i in range(n):\n",
    "        print(a, end= ' ')\n",
    "        a, b = b, a+b\n",
    "    "
   ]
  },
  {
   "cell_type": "code",
   "execution_count": 32,
   "id": "8a5485ed",
   "metadata": {},
   "outputs": [
    {
     "name": "stdout",
     "output_type": "stream",
     "text": [
      "1 1 2 3 5 "
     ]
    }
   ],
   "source": [
    "fib(5)"
   ]
  },
  {
   "cell_type": "markdown",
   "id": "019b7472",
   "metadata": {},
   "source": [
    "4.\tWrite a Python Program to Check Armstrong Number?"
   ]
  },
  {
   "cell_type": "code",
   "execution_count": 51,
   "id": "181356a4",
   "metadata": {},
   "outputs": [],
   "source": [
    "def chk_arm_num(num):    \n",
    "    order = len(str(num))    \n",
    "    sum_ = 0\n",
    "    \n",
    "    temp = num\n",
    "    while temp > 0:\n",
    "        digit = temp % 10        \n",
    "        sum_ += digit ** order        \n",
    "        temp = temp // 10\n",
    "        \n",
    "    if sum_ == num:        \n",
    "        return 1\n",
    "    else:\n",
    "        return 0\n",
    "    "
   ]
  },
  {
   "cell_type": "code",
   "execution_count": 52,
   "id": "4f96119a",
   "metadata": {},
   "outputs": [
    {
     "data": {
      "text/plain": [
       "1"
      ]
     },
     "execution_count": 52,
     "metadata": {},
     "output_type": "execute_result"
    }
   ],
   "source": [
    "chk_arm_num(1634)\n"
   ]
  },
  {
   "cell_type": "markdown",
   "id": "c1e3a9cc",
   "metadata": {},
   "source": [
    "5.\tWrite a Python Program to Find Armstrong Number in an Interval?"
   ]
  },
  {
   "cell_type": "code",
   "execution_count": 53,
   "id": "a71aa8bd",
   "metadata": {},
   "outputs": [],
   "source": [
    "def find_arm(start, end):    \n",
    "    arm = []\n",
    "    for i in range(start, end+1):\n",
    "        if chk_arm_num(i):\n",
    "            arm.append(i)\n",
    "    return arm"
   ]
  },
  {
   "cell_type": "code",
   "execution_count": 61,
   "id": "63a87ad3",
   "metadata": {},
   "outputs": [
    {
     "name": "stdout",
     "output_type": "stream",
     "text": [
      "[1, 2, 3, 4, 5, 6, 7, 8, 9, 153, 370, 371, 407, 1634, 8208, 9474, 54748, 92727, 93084]\n"
     ]
    }
   ],
   "source": [
    "print(find_arm(1, 100000))"
   ]
  },
  {
   "cell_type": "markdown",
   "id": "d77510e2",
   "metadata": {},
   "source": [
    "6.\tWrite a Python Program to Find the Sum of Natural Numbers?"
   ]
  },
  {
   "cell_type": "code",
   "execution_count": 64,
   "id": "543ad537",
   "metadata": {},
   "outputs": [],
   "source": [
    "def sum_nat1(n):\n",
    "    _sum = 0\n",
    "    for i in range(n+1):\n",
    "        _sum += i\n",
    "    return _sum"
   ]
  },
  {
   "cell_type": "code",
   "execution_count": 65,
   "id": "a8776c1d",
   "metadata": {},
   "outputs": [
    {
     "data": {
      "text/plain": [
       "136"
      ]
     },
     "execution_count": 65,
     "metadata": {},
     "output_type": "execute_result"
    }
   ],
   "source": [
    "sum_nat1(16)"
   ]
  },
  {
   "cell_type": "code",
   "execution_count": 68,
   "id": "53b19b72",
   "metadata": {},
   "outputs": [
    {
     "data": {
      "text/plain": [
       "210"
      ]
     },
     "execution_count": 68,
     "metadata": {},
     "output_type": "execute_result"
    }
   ],
   "source": [
    "sum_nat1(20)"
   ]
  },
  {
   "cell_type": "code",
   "execution_count": 66,
   "id": "3a64d95a",
   "metadata": {},
   "outputs": [],
   "source": [
    "def sum_nat2(n):\n",
    "    return (n * (n+1)/2)"
   ]
  },
  {
   "cell_type": "code",
   "execution_count": 67,
   "id": "fc7a9df3",
   "metadata": {},
   "outputs": [
    {
     "data": {
      "text/plain": [
       "136.0"
      ]
     },
     "execution_count": 67,
     "metadata": {},
     "output_type": "execute_result"
    }
   ],
   "source": [
    "sum_nat2(16)"
   ]
  },
  {
   "cell_type": "code",
   "execution_count": 69,
   "id": "b3a30fc9",
   "metadata": {},
   "outputs": [
    {
     "data": {
      "text/plain": [
       "210.0"
      ]
     },
     "execution_count": 69,
     "metadata": {},
     "output_type": "execute_result"
    }
   ],
   "source": [
    "sum_nat2(20)"
   ]
  },
  {
   "cell_type": "code",
   "execution_count": null,
   "id": "e64ee653",
   "metadata": {},
   "outputs": [],
   "source": []
  },
  {
   "cell_type": "code",
   "execution_count": null,
   "id": "5c7231e6",
   "metadata": {},
   "outputs": [],
   "source": []
  }
 ],
 "metadata": {
  "kernelspec": {
   "display_name": "Python 3 (ipykernel)",
   "language": "python",
   "name": "python3"
  },
  "language_info": {
   "codemirror_mode": {
    "name": "ipython",
    "version": 3
   },
   "file_extension": ".py",
   "mimetype": "text/x-python",
   "name": "python",
   "nbconvert_exporter": "python",
   "pygments_lexer": "ipython3",
   "version": "3.9.7"
  }
 },
 "nbformat": 4,
 "nbformat_minor": 5
}
