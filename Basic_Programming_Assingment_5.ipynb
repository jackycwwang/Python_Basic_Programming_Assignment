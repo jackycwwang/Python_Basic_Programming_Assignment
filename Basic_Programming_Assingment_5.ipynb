{
 "cells": [
  {
   "cell_type": "markdown",
   "id": "b2af384c",
   "metadata": {},
   "source": [
    "1.\tWrite a Python Program to Find LCM?"
   ]
  },
  {
   "cell_type": "code",
   "execution_count": 1,
   "id": "6245f15a",
   "metadata": {},
   "outputs": [],
   "source": [
    "def lcm(a, b):\n",
    "    if a > b:\n",
    "        greater = a\n",
    "    else:\n",
    "        greater = b\n",
    "    \n",
    "    while True:\n",
    "        if greater % a == 0 and greater % b == 0:\n",
    "            lcm = greater            \n",
    "            break\n",
    "        greater += 1\n",
    "        \n",
    "    return lcm\n",
    "        "
   ]
  },
  {
   "cell_type": "code",
   "execution_count": 2,
   "id": "db5a665f",
   "metadata": {},
   "outputs": [
    {
     "data": {
      "text/plain": [
       "36"
      ]
     },
     "execution_count": 2,
     "metadata": {},
     "output_type": "execute_result"
    }
   ],
   "source": [
    "lcm(12, 18)"
   ]
  },
  {
   "cell_type": "code",
   "execution_count": 3,
   "id": "c407b5da",
   "metadata": {},
   "outputs": [
    {
     "data": {
      "text/plain": [
       "84"
      ]
     },
     "execution_count": 3,
     "metadata": {},
     "output_type": "execute_result"
    }
   ],
   "source": [
    "lcm(12, 14)"
   ]
  },
  {
   "cell_type": "code",
   "execution_count": 4,
   "id": "68c4f92c",
   "metadata": {},
   "outputs": [
    {
     "data": {
      "text/plain": [
       "8"
      ]
     },
     "execution_count": 4,
     "metadata": {},
     "output_type": "execute_result"
    }
   ],
   "source": [
    "lcm(4, 8)"
   ]
  },
  {
   "cell_type": "markdown",
   "id": "4293b4d5",
   "metadata": {},
   "source": [
    "2.\tWrite a Python Program to Find HCF?"
   ]
  },
  {
   "cell_type": "code",
   "execution_count": 7,
   "id": "34192208",
   "metadata": {},
   "outputs": [],
   "source": [
    "def hcf(a, b):\n",
    "    if a > b:\n",
    "        smaller = b\n",
    "    else:\n",
    "        smaller = a\n",
    "    for i in range(1, smaller+1):\n",
    "        if a % i == 0 and b % i == 0:\n",
    "            hcf = i\n",
    "    return hcf"
   ]
  },
  {
   "cell_type": "code",
   "execution_count": 8,
   "id": "d4711d2f",
   "metadata": {},
   "outputs": [
    {
     "data": {
      "text/plain": [
       "6"
      ]
     },
     "execution_count": 8,
     "metadata": {},
     "output_type": "execute_result"
    }
   ],
   "source": [
    "hcf(54, 24)"
   ]
  },
  {
   "cell_type": "markdown",
   "id": "d65251f5",
   "metadata": {},
   "source": [
    "3.\tWrite a Python Program to Convert Decimal to Binary, Octal and Hexadecimal?"
   ]
  },
  {
   "cell_type": "code",
   "execution_count": 9,
   "id": "0f9095a0",
   "metadata": {},
   "outputs": [],
   "source": [
    "def dec_to_others(a):\n",
    "    return bin(a), oct(a), hex(a)"
   ]
  },
  {
   "cell_type": "code",
   "execution_count": 10,
   "id": "6460f135",
   "metadata": {},
   "outputs": [
    {
     "data": {
      "text/plain": [
       "('0b101011000', '0o530', '0x158')"
      ]
     },
     "execution_count": 10,
     "metadata": {},
     "output_type": "execute_result"
    }
   ],
   "source": [
    "dec_to_others(344)"
   ]
  },
  {
   "cell_type": "markdown",
   "id": "a30a8c1b",
   "metadata": {},
   "source": [
    "4.\tWrite a Python Program To Find ASCII value of a character?"
   ]
  },
  {
   "cell_type": "code",
   "execution_count": 13,
   "id": "ba1f0463",
   "metadata": {},
   "outputs": [],
   "source": [
    "def ch_to_ascii(ch):\n",
    "    return ord(ch)"
   ]
  },
  {
   "cell_type": "code",
   "execution_count": 14,
   "id": "b6b6985f",
   "metadata": {},
   "outputs": [
    {
     "data": {
      "text/plain": [
       "112"
      ]
     },
     "execution_count": 14,
     "metadata": {},
     "output_type": "execute_result"
    }
   ],
   "source": [
    "ch_to_ascii('p')"
   ]
  },
  {
   "cell_type": "markdown",
   "id": "e5e9a964",
   "metadata": {},
   "source": [
    "5.\tWrite a Python Program to Make a Simple Calculator with 4 basic mathematical operations?"
   ]
  },
  {
   "cell_type": "code",
   "execution_count": 15,
   "id": "ccd44310",
   "metadata": {},
   "outputs": [],
   "source": [
    "class Simple_Calculator:\n",
    "    def __init__(self, a, b):\n",
    "        self.a = a\n",
    "        self.b = b\n",
    "    def add(self):\n",
    "        return self.a + self.b\n",
    "    def sub(self):\n",
    "        return self.a - self.b\n",
    "    def mul(self):\n",
    "        return self.a * self.b\n",
    "    def div(self):\n",
    "        return self.a / self.b"
   ]
  },
  {
   "cell_type": "code",
   "execution_count": 16,
   "id": "b75a6062",
   "metadata": {},
   "outputs": [],
   "source": [
    "sc = Simple_Calculator(50, 5)"
   ]
  },
  {
   "cell_type": "code",
   "execution_count": 17,
   "id": "5d0a243b",
   "metadata": {},
   "outputs": [
    {
     "data": {
      "text/plain": [
       "55"
      ]
     },
     "execution_count": 17,
     "metadata": {},
     "output_type": "execute_result"
    }
   ],
   "source": [
    "sc.add()"
   ]
  },
  {
   "cell_type": "code",
   "execution_count": 18,
   "id": "0232df4d",
   "metadata": {},
   "outputs": [
    {
     "data": {
      "text/plain": [
       "45"
      ]
     },
     "execution_count": 18,
     "metadata": {},
     "output_type": "execute_result"
    }
   ],
   "source": [
    "sc.sub()\n"
   ]
  },
  {
   "cell_type": "code",
   "execution_count": 19,
   "id": "da485287",
   "metadata": {},
   "outputs": [
    {
     "data": {
      "text/plain": [
       "250"
      ]
     },
     "execution_count": 19,
     "metadata": {},
     "output_type": "execute_result"
    }
   ],
   "source": [
    "sc.mul()"
   ]
  },
  {
   "cell_type": "code",
   "execution_count": 20,
   "id": "48bc8b3f",
   "metadata": {},
   "outputs": [
    {
     "data": {
      "text/plain": [
       "10.0"
      ]
     },
     "execution_count": 20,
     "metadata": {},
     "output_type": "execute_result"
    }
   ],
   "source": [
    "sc.div()"
   ]
  },
  {
   "cell_type": "code",
   "execution_count": null,
   "id": "43139a60",
   "metadata": {},
   "outputs": [],
   "source": []
  }
 ],
 "metadata": {
  "kernelspec": {
   "display_name": "Python 3 (ipykernel)",
   "language": "python",
   "name": "python3"
  },
  "language_info": {
   "codemirror_mode": {
    "name": "ipython",
    "version": 3
   },
   "file_extension": ".py",
   "mimetype": "text/x-python",
   "name": "python",
   "nbconvert_exporter": "python",
   "pygments_lexer": "ipython3",
   "version": "3.9.7"
  }
 },
 "nbformat": 4,
 "nbformat_minor": 5
}
