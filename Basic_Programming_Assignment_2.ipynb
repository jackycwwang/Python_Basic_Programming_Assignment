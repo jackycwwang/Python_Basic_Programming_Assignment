{
 "cells": [
  {
   "cell_type": "markdown",
   "id": "edd69e58",
   "metadata": {},
   "source": [
    "# Basic Assignment 2"
   ]
  },
  {
   "cell_type": "markdown",
   "id": "1ed61928",
   "metadata": {},
   "source": [
    "1.\tWrite a Python program to convert kilometers to miles?"
   ]
  },
  {
   "cell_type": "code",
   "execution_count": 1,
   "id": "7a040a95",
   "metadata": {},
   "outputs": [],
   "source": [
    "def conv_km_to_mile(km):\n",
    "    return km * 0.6"
   ]
  },
  {
   "cell_type": "markdown",
   "id": "241a5e3e",
   "metadata": {},
   "source": [
    "2.\tWrite a Python program to convert Celsius to Fahrenheit?"
   ]
  },
  {
   "cell_type": "code",
   "execution_count": 2,
   "id": "e484cae0",
   "metadata": {},
   "outputs": [],
   "source": [
    "def convert_c_to_f(c):\n",
    "    return (9/5) * c + 32"
   ]
  },
  {
   "cell_type": "markdown",
   "id": "05d257ca",
   "metadata": {},
   "source": [
    "3.\tWrite a Python program to display calendar?"
   ]
  },
  {
   "cell_type": "code",
   "execution_count": 6,
   "id": "78e1637b",
   "metadata": {},
   "outputs": [
    {
     "name": "stdout",
     "output_type": "stream",
     "text": [
      "Enter year :2022\n",
      "Enter month :1\n",
      "    January 2022\n",
      "Mo Tu We Th Fr Sa Su\n",
      "                1  2\n",
      " 3  4  5  6  7  8  9\n",
      "10 11 12 13 14 15 16\n",
      "17 18 19 20 21 22 23\n",
      "24 25 26 27 28 29 30\n",
      "31\n",
      "\n"
     ]
    }
   ],
   "source": [
    "import calendar\n",
    "\n",
    "try:\n",
    "    yy = int(input(\"Enter year :\"))\n",
    "    mm = int(input(\"Enter month :\"))\n",
    "    print(calendar.month(yy, mm))\n",
    "except Exception as e:\n",
    "    print('Input error!, ', e)"
   ]
  },
  {
   "cell_type": "markdown",
   "id": "dc7f6f9b",
   "metadata": {},
   "source": [
    "4.\tWrite a Python program to solve quadratic equation?"
   ]
  },
  {
   "cell_type": "code",
   "execution_count": 7,
   "id": "ac042ccc",
   "metadata": {},
   "outputs": [],
   "source": [
    "import cmath\n",
    "\n",
    "def quadratic_solver(a, b, c):\n",
    "    d_squared = cmath.sqrt(b**2 - 4*a*c)\n",
    "    \n",
    "    sol1 = b + d_squared/2*a\n",
    "    sol2 = b - d_squared/2*a\n",
    "    \n",
    "    return sol1, sol2"
   ]
  },
  {
   "cell_type": "code",
   "execution_count": 8,
   "id": "d38615f8",
   "metadata": {},
   "outputs": [
    {
     "data": {
      "text/plain": [
       "((2+1.4142135623730951j), (2-1.4142135623730951j))"
      ]
     },
     "execution_count": 8,
     "metadata": {},
     "output_type": "execute_result"
    }
   ],
   "source": [
    "quadratic_solver(1, 2, 3)"
   ]
  },
  {
   "cell_type": "markdown",
   "id": "0a07fdca",
   "metadata": {},
   "source": [
    "5.\tWrite a Python program to swap two variables without temp variable?"
   ]
  },
  {
   "cell_type": "code",
   "execution_count": 9,
   "id": "77557516",
   "metadata": {},
   "outputs": [],
   "source": [
    "def swap(a, b):\n",
    "    a, b = b, a\n",
    "    return a, b"
   ]
  },
  {
   "cell_type": "code",
   "execution_count": 10,
   "id": "e1a47a6f",
   "metadata": {},
   "outputs": [
    {
     "data": {
      "text/plain": [
       "(2, 1)"
      ]
     },
     "execution_count": 10,
     "metadata": {},
     "output_type": "execute_result"
    }
   ],
   "source": [
    "a = 1\n",
    "b = 2\n",
    "swap(a, b)"
   ]
  },
  {
   "cell_type": "code",
   "execution_count": null,
   "id": "10d4b17d",
   "metadata": {},
   "outputs": [],
   "source": []
  }
 ],
 "metadata": {
  "kernelspec": {
   "display_name": "Python 3",
   "language": "python",
   "name": "python3"
  },
  "language_info": {
   "codemirror_mode": {
    "name": "ipython",
    "version": 3
   },
   "file_extension": ".py",
   "mimetype": "text/x-python",
   "name": "python",
   "nbconvert_exporter": "python",
   "pygments_lexer": "ipython3",
   "version": "3.7.11"
  }
 },
 "nbformat": 4,
 "nbformat_minor": 5
}
